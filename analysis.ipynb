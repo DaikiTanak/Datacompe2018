{
 "cells": [
  {
   "cell_type": "code",
   "execution_count": 1,
   "metadata": {},
   "outputs": [],
   "source": [
    "import pandas as pd\n",
    "import numpy as np\n",
    "from collections import Counter\n",
    "import hashlib"
   ]
  },
  {
   "cell_type": "code",
   "execution_count": 2,
   "metadata": {},
   "outputs": [
    {
     "data": {
      "text/plain": [
       "{'adnw_id': 36,\n",
       " 'adspot_id': 1106,\n",
       " 'advertiser_id': 2166,\n",
       " 'campaign_id': 11803,\n",
       " 'category_id': 7204,\n",
       " 'frequency': 10,\n",
       " 'game_feed_id': 33598,\n",
       " 'is_app': 2,\n",
       " 'last_login_interval': 2349757,\n",
       " 'last_paid_interval': 1053268596,\n",
       " 'logged_at': 1,\n",
       " 'media_id': 89765,\n",
       " 'uid': 3691112,\n",
       " 'user_type_id': 5}"
      ]
     },
     "execution_count": 2,
     "metadata": {},
     "output_type": "execute_result"
    }
   ],
   "source": [
    "fin = open('data_train.csv')\n",
    "\n",
    "featname = fin.readline().strip().split(',')\n",
    "#Load the maximum index\n",
    "maxID = {}\n",
    "finID = open('maxID.txt')\n",
    "for line in finID:\n",
    "    i,id = line.strip().split('\\t')\n",
    "    maxID[featname[int(i)]] = int(id) + 1\n",
    "maxID"
   ]
  },
  {
   "cell_type": "code",
   "execution_count": 5,
   "metadata": {},
   "outputs": [
    {
     "name": "stdout",
     "output_type": "stream",
     "text": [
      "logged_at : 1787195\n",
      "advertiser_id : 136\n",
      "campaign_id : 843\n",
      "category_id : 14\n",
      "adnw_id : 22\n",
      "adspot_id : 52\n",
      "uid : 1044427\n",
      "frequency : 11\n",
      "user_type_id : 4\n",
      "media_id : 38535\n",
      "is_app : 2\n",
      "last_login_interval : 331665\n",
      "last_paid_interval : 211786\n",
      "game_feed_id : 1733\n",
      "click : 2\n"
     ]
    }
   ],
   "source": [
    "train = pd.read_csv(\"data_train.csv\")\n",
    "test = pd.read_csv(\"data_test.csv\")\n",
    "train = train.fillna(0)\n",
    "test = test.fillna(0)\n",
    "\n",
    "kinds={}\n",
    "for name in featname:\n",
    "    c = Counter(train[name])\n",
    "    kinds[name] = len(c)\n",
    "    print(name + \" : \" + str(len(c)))"
   ]
  },
  {
   "cell_type": "code",
   "execution_count": null,
   "metadata": {},
   "outputs": [],
   "source": [
    "u = train[\"uid\"]\n",
    "click = train[\"click\"]\n",
    "\"#データ中に現れる数\"\n",
    "user_c = Counter(u)\n",
    "\n",
    "clickrate, click_num = {}, {}\n",
    "for user, c in zip(u, click):\n",
    "    if(user in click_num.keys()):\n",
    "        click_num[user] += c\n",
    "    else:\n",
    "        click_num[user] = c\n",
    "\n",
    "    l = len(u)\n",
    "    i = 1\n",
    "    for user in click_num.keys():\n",
    "        num = click_num[user]\n",
    "        rate = num/user_c[user]\n",
    "        clickrate[user] = rate\n",
    "        i +=1\n"
   ]
  },
  {
   "cell_type": "code",
   "execution_count": null,
   "metadata": {},
   "outputs": [],
   "source": [
    "rate_list = list(map(lambda x: clickrate[x], train[\"uid\"]))\n",
    "rate_series = pd.Series(rate_list)\n",
    "\n",
    "#new_train_df = pd.concat([train, rate_series], axis=1)\\n\",\n",
    "rate_series.to_csv(\"clickrate.csv\")"
   ]
  },
  {
   "cell_type": "code",
   "execution_count": null,
   "metadata": {},
   "outputs": [],
   "source": [
    "test_ratelist = [],\n",
    "for user in test[\"uid\"]:\n",
    "    if(user in clickrate.keys()):\n",
    "        test_ratelist.append(clickrate[user])\n",
    "    else:\n",
    "        test_ratelist.append(0)\n",
    "test_rate_series = pd.Series(test_ratelist)\n",
    "test_rate_series.to_csv(\"clickrate_test.csv\")"
   ]
  },
  {
   "cell_type": "code",
   "execution_count": 10,
   "metadata": {},
   "outputs": [],
   "source": [
    "features = [\"advertiser_id\", \"category_id\", \"adnw_id\", \"adspot_id\", \"user_type_id\"]\n",
    "id_list = []\n",
    "for f in features:\n",
    "    e = pd.concat([train[f], test[f]], axis=0)\n",
    "    id_list.append(e)\n",
    "\n",
    "#ad_id = pd.concat([train[\"advertiser_id\"],test[\"advertiser_id\"]], axis=0)\n",
    "#category_id = pd.concat([train[\"category_id\"],test[\"category_id\"]], axis=0)\n",
    "#adnw_id = pd.concat([train[\"adnw_id\"],test[\"adnw_id\"]], axis=0)\n",
    "#adspot_id = pd.concat([train[\"adspot_id\"],test[\"adspot_id\"]], axis=0)\n",
    "frequency = pd.concat([train[\"frequency\"],test[\"frequency\"]], axis=0)\n",
    "#user_type_id = pd.concat([train[\"user_type_id\"],test[\"user_type_id\"]], axis=0)\n",
    "#id_list = [ad_id,category_id,adnw_id,adspot_id,user_type_id]\n",
    "\n",
    "click = train[\"click\"]"
   ]
  },
  {
   "cell_type": "code",
   "execution_count": 11,
   "metadata": {},
   "outputs": [],
   "source": [
    "def onehot_dic(ID_list):\n",
    "    c = Counter(ID_list)\n",
    "    #IDの種類数\n",
    "    num = len(c)\n",
    "    dic = {}\n",
    "    i = 0\n",
    "    for ID in c.keys():\n",
    "        dic[ID] = i\n",
    "        i += 1\n",
    "     \n",
    "    return dic, num\n",
    "\n",
    "def to_onehot(ID_list, dic, num):\n",
    "    li = []\n",
    "    for ID in ID_list:\n",
    "        li.append(dic[ID])\n",
    "    return np.eye(num)[li]\n",
    "    "
   ]
  },
  {
   "cell_type": "code",
   "execution_count": 12,
   "metadata": {},
   "outputs": [],
   "source": [
    "dic_lis, num_lis = [], []\n",
    "for ele in id_list:\n",
    "    dic, num = onehot_dic(ele)\n",
    "    dic_lis.append(dic)\n",
    "    num_lis.append(num)"
   ]
  },
  {
   "cell_type": "code",
   "execution_count": 15,
   "metadata": {},
   "outputs": [],
   "source": [
    "train_li, test_li = [], []\n",
    "\n",
    "index = 0\n",
    "for f in features:\n",
    "    train_df = pd.DataFrame(to_onehot(train[f], dic_lis[index], num_lis[index]))\n",
    "    test_df = pd.DataFrame(to_onehot(test[f], dic_lis[index], num_lis[index]))\n",
    "    train_li.append(train_df)\n",
    "    test_li.append(test_df)\n",
    "    index += 1"
   ]
  },
  {
   "cell_type": "code",
   "execution_count": 18,
   "metadata": {},
   "outputs": [],
   "source": [
    "#訓練データ行列とテストデータ行列の作成\n",
    "i = 0\n",
    "for df in train_li:\n",
    "    if(i==0):\n",
    "        tr_df = df\n",
    "        i += 1\n",
    "    else:\n",
    "        tr_df = pd.concat([tr_df, df], axis=1)\n",
    "        \n",
    "i = 0\n",
    "for df in test_li:\n",
    "    if(i==0):\n",
    "        tes_df = df\n",
    "        i += 1\n",
    "    else:\n",
    "        tes_df = pd.concat([tes_df, df], axis=1)\n"
   ]
  },
  {
   "cell_type": "code",
   "execution_count": 19,
   "metadata": {},
   "outputs": [
    {
     "data": {
      "text/plain": [
       "PCA(copy=True, iterated_power='auto', n_components=30, random_state=0,\n",
       "  svd_solver='auto', tol=0.0, whiten=False)"
      ]
     },
     "execution_count": 19,
     "metadata": {},
     "output_type": "execute_result"
    }
   ],
   "source": [
    "X = np.matrix(tr_df)\n",
    "\n",
    "from sklearn.decomposition import PCA\n",
    "decomposer = PCA(n_components=30, random_state=0)\n",
    "decomposer.fit(X)"
   ]
  },
  {
   "cell_type": "code",
   "execution_count": 20,
   "metadata": {},
   "outputs": [],
   "source": [
    "X_pca = decomposer.transform(X)"
   ]
  },
  {
   "cell_type": "code",
   "execution_count": 21,
   "metadata": {},
   "outputs": [],
   "source": [
    "from sklearn.model_selection import train_test_split\n",
    "X_train, X_test,y_train, y_test = train_test_split(X_pca, click, test_size=0.2, random_state=0)"
   ]
  },
  {
   "cell_type": "code",
   "execution_count": 24,
   "metadata": {},
   "outputs": [
    {
     "data": {
      "text/plain": [
       "RandomForestClassifier(bootstrap=True, class_weight=None, criterion='gini',\n",
       "            max_depth=None, max_features='auto', max_leaf_nodes=None,\n",
       "            min_impurity_decrease=0.0, min_impurity_split=None,\n",
       "            min_samples_leaf=1, min_samples_split=2,\n",
       "            min_weight_fraction_leaf=0.0, n_estimators=50, n_jobs=1,\n",
       "            oob_score=False, random_state=0, verbose=0, warm_start=False)"
      ]
     },
     "execution_count": 24,
     "metadata": {},
     "output_type": "execute_result"
    }
   ],
   "source": [
    "from sklearn.ensemble import RandomForestClassifier\n",
    "\n",
    "clf = RandomForestClassifier(random_state=0, n_estimators=50)\n",
    "clf.fit(X_train, y_train)"
   ]
  },
  {
   "cell_type": "code",
   "execution_count": 25,
   "metadata": {},
   "outputs": [
    {
     "data": {
      "text/plain": [
       "0.8206665356013155"
      ]
     },
     "execution_count": 25,
     "metadata": {},
     "output_type": "execute_result"
    }
   ],
   "source": [
    "y_test_pred = clf.predict_proba(X_test)[:,1]\n",
    "\n",
    "from sklearn.metrics import roc_auc_score\n",
    "roc_auc_score(y_test, y_test_pred, average='macro')"
   ]
  },
  {
   "cell_type": "code",
   "execution_count": 26,
   "metadata": {},
   "outputs": [],
   "source": [
    "val_X = np.matrix(tes_df)\n",
    "\n",
    "val_X_pca = decomposer.transform(val_X)"
   ]
  },
  {
   "cell_type": "code",
   "execution_count": 27,
   "metadata": {},
   "outputs": [],
   "source": [
    "y_val_pred = clf.predict_proba(val_X_pca)[:,1]"
   ]
  },
  {
   "cell_type": "code",
   "execution_count": 28,
   "metadata": {},
   "outputs": [],
   "source": [
    "f = open('submit.dat', 'w') # 書き込みモードで開く\n",
    "y_pred = list(map(str, y_val_pred))\n",
    "for p in y_pred:\n",
    "    f.writelines(p + \"\\n\") # シーケンスが引数。\n",
    "f.close()"
   ]
  },
  {
   "cell_type": "code",
   "execution_count": 29,
   "metadata": {},
   "outputs": [
    {
     "data": {
      "text/plain": [
       "(536940, 536940)"
      ]
     },
     "execution_count": 29,
     "metadata": {},
     "output_type": "execute_result"
    }
   ],
   "source": [
    "len(y_val_pred),len(test)"
   ]
  },
  {
   "cell_type": "markdown",
   "metadata": {},
   "source": [
    "時間に関する特徴設計\n",
    "時間帯についてカテゴライズ\n",
    "\n",
    "0 : night 1: day\n"
   ]
  },
  {
   "cell_type": "code",
   "execution_count": 41,
   "metadata": {},
   "outputs": [
    {
     "data": {
      "text/plain": [
       "0          0\n",
       "1          0\n",
       "2          0\n",
       "3          0\n",
       "4          0\n",
       "5          0\n",
       "6          0\n",
       "7          0\n",
       "8          0\n",
       "9          0\n",
       "10         0\n",
       "11         0\n",
       "12         0\n",
       "13         0\n",
       "14         0\n",
       "15         0\n",
       "16         0\n",
       "17         0\n",
       "18         0\n",
       "19         0\n",
       "20         0\n",
       "21         0\n",
       "22         0\n",
       "23         0\n",
       "24         0\n",
       "25         0\n",
       "26         0\n",
       "27         0\n",
       "28         0\n",
       "29         0\n",
       "          ..\n",
       "1816538    1\n",
       "1816539    1\n",
       "1816540    1\n",
       "1816541    1\n",
       "1816542    1\n",
       "1816543    1\n",
       "1816544    1\n",
       "1816545    1\n",
       "1816546    1\n",
       "1816547    1\n",
       "1816548    1\n",
       "1816549    1\n",
       "1816550    1\n",
       "1816551    1\n",
       "1816552    1\n",
       "1816553    1\n",
       "1816554    1\n",
       "1816555    1\n",
       "1816556    1\n",
       "1816557    1\n",
       "1816558    1\n",
       "1816559    1\n",
       "1816560    1\n",
       "1816561    1\n",
       "1816562    1\n",
       "1816563    1\n",
       "1816564    1\n",
       "1816565    1\n",
       "1816566    1\n",
       "1816567    1\n",
       "Length: 1816568, dtype: int64"
      ]
     },
     "execution_count": 41,
     "metadata": {},
     "output_type": "execute_result"
    }
   ],
   "source": [
    "\n",
    "hour = []\n",
    "for data in logged_at:\n",
    "    hour.append(int(data.split()[1][:2]))\n",
    "max(hour)\n",
    "\n",
    "time_zone = []\n",
    "for h in hour:\n",
    "    if(h < 6 or 18 < h):\n",
    "        time_zone.append(0)\n",
    "    else:\n",
    "        time_zone.append(1)\n",
    "\n",
    "time_zone = pd.Series(time_zone)\n"
   ]
  },
  {
   "cell_type": "markdown",
   "metadata": {},
   "source": [
    "IDに関する特徴量\n",
    "\n",
    "ID->登場頻度に変換"
   ]
  },
  {
   "cell_type": "code",
   "execution_count": 8,
   "metadata": {},
   "outputs": [],
   "source": [
    "def to_freq(ID_list):\n",
    "    #出現回数をカウント\n",
    "    from collections import Counter\n",
    "    c = Counter(ID_list)\n",
    "    print(len(c))\n",
    "    s = 0\n",
    "    for num in c.values():\n",
    "        s += num\n",
    "    \n",
    "    ID_freq_dic = {}\n",
    "    for ID,num in c.items():\n",
    "        ID_freq_dic[ID] = num / s\n",
    "    \n",
    "    lis = []\n",
    "    for ID in ID_list:\n",
    "        lis.append(ID_freq_dic[ID])\n",
    "    return pd.Series(lis)\n",
    "\n",
    "\n",
    "\n",
    "def onehot(ID_list):\n",
    "    c = Counter(ID_list)\n",
    "    #IDの種類数\n",
    "    num = len(c)\n",
    "    print(num)\n",
    "    dic = {}\n",
    "    i = 0\n",
    "    for ID in c.keys():\n",
    "        dic[ID] = i\n",
    "        i += 1\n",
    "    new_ID_list = []\n",
    "    for ID in ID_list:\n",
    "        new_ID_list.append(dic[ID])\n",
    "    print(new_ID_list)\n",
    "        \n",
    "    one_hot = np.eye(num)[new_ID_list]    \n",
    "    \n",
    "    return pd.DataFrame(one_hot)\n",
    "    \n",
    "        "
   ]
  },
  {
   "cell_type": "code",
   "execution_count": null,
   "metadata": {},
   "outputs": [],
   "source": []
  },
  {
   "cell_type": "code",
   "execution_count": 165,
   "metadata": {},
   "outputs": [
    {
     "name": "stdout",
     "output_type": "stream",
     "text": [
      "136\n"
     ]
    },
    {
     "name": "stderr",
     "output_type": "stream",
     "text": [
      "IOPub data rate exceeded.\n",
      "The notebook server will temporarily stop sending output\n",
      "to the client in order to avoid crashing it.\n",
      "To change this limit, set the config variable\n",
      "`--NotebookApp.iopub_data_rate_limit`.\n",
      "\n",
      "Current values:\n",
      "NotebookApp.iopub_data_rate_limit=1000000.0 (bytes/sec)\n",
      "NotebookApp.rate_limit_window=3.0 (secs)\n",
      "\n"
     ]
    }
   ],
   "source": [
    "adv_one = onehot(adv_id)\n",
    "user_freq = to_freq(uid)\n",
    "is_app = pd.Series(is_app)\n",
    "\n"
   ]
  },
  {
   "cell_type": "code",
   "execution_count": 139,
   "metadata": {},
   "outputs": [],
   "source": [
    "def hashing(ID_list,N):\n",
    "    l=[]\n",
    "    for ID in ID_list:\n",
    "        h = hashlib.md5()\n",
    "        h.update(str(ID).encode('utf-8'))\n",
    "        ha = h.hexdigest()\n",
    "        s = int(ha, 16)\n",
    "        l.append(s%N)\n",
    "    return pd.Series(l)"
   ]
  },
  {
   "cell_type": "code",
   "execution_count": 158,
   "metadata": {},
   "outputs": [],
   "source": [
    "\n",
    "user_hash = hashing(uid, 10000)"
   ]
  },
  {
   "cell_type": "code",
   "execution_count": 166,
   "metadata": {},
   "outputs": [],
   "source": [
    "#new_df = pd.concat([adv_freq, user_freq, is_app, time_zone], axis=1)\n",
    "new_df = pd.concat([adv_one,user_hash, is_app, time_zone], axis=1)\n",
    "\n",
    "X = np.matrix(new_df)"
   ]
  },
  {
   "cell_type": "code",
   "execution_count": 167,
   "metadata": {},
   "outputs": [],
   "source": [
    "from sklearn.model_selection import train_test_split\n",
    "X_train, X_test,y_train, y_test = train_test_split(X, click, test_size=0.2, random_state=0)"
   ]
  },
  {
   "cell_type": "code",
   "execution_count": 168,
   "metadata": {},
   "outputs": [
    {
     "data": {
      "text/plain": [
       "RandomForestClassifier(bootstrap=True, class_weight=None, criterion='gini',\n",
       "            max_depth=None, max_features='auto', max_leaf_nodes=None,\n",
       "            min_impurity_decrease=0.0, min_impurity_split=None,\n",
       "            min_samples_leaf=1, min_samples_split=2,\n",
       "            min_weight_fraction_leaf=0.0, n_estimators=10, n_jobs=1,\n",
       "            oob_score=False, random_state=0, verbose=0, warm_start=False)"
      ]
     },
     "execution_count": 168,
     "metadata": {},
     "output_type": "execute_result"
    }
   ],
   "source": [
    "from sklearn.ensemble import RandomForestClassifier\n",
    "\n",
    "clf = RandomForestClassifier(random_state=0, n_estimators=10)\n",
    "clf.fit(X_train, y_train)"
   ]
  },
  {
   "cell_type": "code",
   "execution_count": 169,
   "metadata": {},
   "outputs": [
    {
     "data": {
      "text/plain": [
       "0.6086907773468624"
      ]
     },
     "execution_count": 169,
     "metadata": {},
     "output_type": "execute_result"
    }
   ],
   "source": [
    "y_test_pred = clf.predict_proba(X_test)[:,1]\n",
    "\n",
    "from sklearn.metrics import roc_auc_score\n",
    "roc_auc_score(y_test, y_test_pred, average='macro')\n"
   ]
  },
  {
   "cell_type": "code",
   "execution_count": 70,
   "metadata": {},
   "outputs": [
    {
     "data": {
      "image/png": "[encoded data removed]",
      "text/plain": [
       "<matplotlib.figure.Figure at 0x1208d9b70>"
      ]
     },
     "metadata": {},
     "output_type": "display_data"
    }
   ],
   "source": [
    "import matplotlib.pyplot as plt\n",
    "\n",
    "plt.scatter(fre, y_train)\n",
    "plt.show()\n"
   ]
  },
  {
   "cell_type": "markdown",
   "metadata": {},
   "source": [
    "提出用"
   ]
  },
  {
   "cell_type": "code",
   "execution_count": 17,
   "metadata": {},
   "outputs": [],
   "source": [
    "test = pd.read_csv('data_test.csv')"
   ]
  },
  {
   "cell_type": "code",
   "execution_count": 19,
   "metadata": {},
   "outputs": [],
   "source": [
    "adv_id = test[\"advertiser_id\"]\n",
    "uid = test[\"uid\"]\n",
    "frequency = test[\"frequency\"]\n",
    "X_test = np.matrix(pd.concat([adv_id, uid,frequency], axis=1))"
   ]
  },
  {
   "cell_type": "code",
   "execution_count": 41,
   "metadata": {},
   "outputs": [
    {
     "data": {
      "text/plain": [
       "array([[0.9, 0.1]])"
      ]
     },
     "execution_count": 41,
     "metadata": {},
     "output_type": "execute_result"
    }
   ],
   "source": [
    "y_pred = clf.predict_proba(X_test)"
   ]
  },
  {
   "cell_type": "code",
   "execution_count": 42,
   "metadata": {},
   "outputs": [],
   "source": [
    "y_pred = y_pred[:,0]"
   ]
  },
  {
   "cell_type": "code",
   "execution_count": 52,
   "metadata": {},
   "outputs": [],
   "source": [
    "f = open('submit.dat', 'w') # 書き込みモードで開く\n",
    "y_pred = list(map(str, y_pred))\n",
    "for p in y_pred:\n",
    "    f.writelines(p + \"\\n\") # シーケンスが引数。\n",
    "f.close()"
   ]
  },
  {
   "cell_type": "code",
   "execution_count": 58,
   "metadata": {},
   "outputs": [],
   "source": [
    "def clickrate(ID_list, click_list):\n",
    "    c = Counter(ID_list)\n",
    "    \n",
    "    clickrate = {}\n",
    "    for ID, click in zip(ID_list, click_list):\n",
    "        if(click == 1):\n",
    "            if(not ID in clickrate.keys()):\n",
    "                clickrate[ID] = 1\n",
    "            else:\n",
    "                clickrate[ID] += 1\n",
    "            \n",
    "        \n",
    "    for ID, click in clickrate.items():\n",
    "        clickrate[ID] = click/c[ID]\n",
    "    \n",
    "        \n",
    "    return clickrate"
   ]
  },
  {
   "cell_type": "code",
   "execution_count": 62,
   "metadata": {},
   "outputs": [
    {
     "data": {
      "text/plain": [
       "{1229: 0.08452908948604226,\n",
       " 1235: 0.07537993920972644,\n",
       " 1255: 0.15704387990762125,\n",
       " 1264: 0.0737410071942446,\n",
       " 1265: 0.0856269113149847,\n",
       " 1268: 0.08231193073203644,\n",
       " 1270: 0.11925507647432781,\n",
       " 1278: 0.06051066806575726,\n",
       " 1309: 0.1091307257132429,\n",
       " 1312: 0.11900338760791171,\n",
       " 1316: 0.09008664627930683,\n",
       " 1349: 0.061452513966480445,\n",
       " 1350: 0.11514975283512649,\n",
       " 1354: 0.10960804717308359,\n",
       " 1356: 0.06463089238067003,\n",
       " 1357: 0.1405775075987842,\n",
       " 1375: 0.10469667318982387,\n",
       " 1383: 0.08968916883472546,\n",
       " 1386: 0.10084033613445378,\n",
       " 1403: 0.10187652675993782,\n",
       " 1408: 0.10037934053107675,\n",
       " 1409: 0.07751937984496124,\n",
       " 1431: 0.1069199910853577,\n",
       " 1436: 0.0791628753412193,\n",
       " 1440: 0.0706713780918728,\n",
       " 1445: 0.07244250970000947,\n",
       " 1446: 0.04878048780487805,\n",
       " 1461: 0.08719317527607683,\n",
       " 1471: 0.11084964082239286,\n",
       " 1472: 0.1047142261159783,\n",
       " 1473: 0.09678510998307953,\n",
       " 1480: 0.09436696250679225,\n",
       " 1487: 0.0667016806722689,\n",
       " 1489: 0.09070949849780448,\n",
       " 1492: 0.09934771700953336,\n",
       " 1513: 0.12956810631229235,\n",
       " 1516: 0.10083655424365966,\n",
       " 1521: 0.07267111038855471,\n",
       " 1527: 0.0605296343001261,\n",
       " 1530: 0.06733167082294264,\n",
       " 1539: 0.052083333333333336,\n",
       " 1546: 0.07408993576017131,\n",
       " 1572: 0.05911949685534591,\n",
       " 1592: 0.13835072031793344,\n",
       " 1613: 0.09074228523769808,\n",
       " 1623: 0.05725971370143149,\n",
       " 1628: 0.06558381857186638,\n",
       " 1633: 0.07939189189189189,\n",
       " 1637: 0.05674288559500555,\n",
       " 1653: 0.08973200843119543,\n",
       " 1655: 0.06483126110124333,\n",
       " 1657: 0.07119741100323625,\n",
       " 1669: 0.06452762923351159,\n",
       " 1695: 0.14415841584158415,\n",
       " 1716: 0.09414381022979985,\n",
       " 1762: 0.10726256983240223,\n",
       " 1771: 0.06756538585728124,\n",
       " 1773: 0.0688235294117647,\n",
       " 1774: 0.1449097842989063,\n",
       " 1778: 0.09675780058949081,\n",
       " 1780: 0.05248007085916741,\n",
       " 1781: 0.10138740661686232,\n",
       " 1782: 0.10498687664041995,\n",
       " 1797: 0.19005328596802842,\n",
       " 1809: 0.24160911183811948,\n",
       " 1829: 0.075864038846044,\n",
       " 1858: 0.10641310944770382,\n",
       " 1862: 0.14847676684788183,\n",
       " 1864: 0.15488273213550954,\n",
       " 1867: 0.14231937239023157,\n",
       " 1868: 0.1419360171943457,\n",
       " 1869: 0.12875971612031092,\n",
       " 1870: 0.1573179524152848,\n",
       " 1887: 0.09231722428748451,\n",
       " 1888: 0.07301528370769135,\n",
       " 1889: 0.18138031142781735,\n",
       " 1890: 0.10924866890159732,\n",
       " 1897: 0.08276740237691002,\n",
       " 1898: 0.09436133486766399,\n",
       " 1902: 0.09511811023622047,\n",
       " 1905: 0.06620209059233449,\n",
       " 1909: 0.11256291456951435,\n",
       " 1914: 0.04913494809688582,\n",
       " 1915: 0.06360593017694882,\n",
       " 1930: 0.06647869358709699,\n",
       " 1935: 0.09614893228691367,\n",
       " 1941: 0.056940980881130504,\n",
       " 1953: 0.07343989706537339,\n",
       " 1958: 0.07730467135179826,\n",
       " 1961: 0.18532133350234503,\n",
       " 1966: 0.24183006535947713,\n",
       " 1971: 0.07698359181838615,\n",
       " 1972: 0.05733333333333333,\n",
       " 1973: 0.06614664586583463,\n",
       " 1979: 0.07201800450112528,\n",
       " 1980: 0.0629827688651218,\n",
       " 1995: 0.09207547169811321,\n",
       " 1998: 0.09407894736842105,\n",
       " 1999: 0.07894975101856043,\n",
       " 2004: 0.10196374622356495,\n",
       " 2005: 0.08398347865993575,\n",
       " 2009: 0.08599005557180463,\n",
       " 2013: 0.13409290096406662,\n",
       " 2030: 0.1266509950793872,\n",
       " 2034: 0.07153816647487533,\n",
       " 2054: 0.10079105828643393,\n",
       " 2055: 0.07375565610859729,\n",
       " 2069: 0.06893403332572472,\n",
       " 2077: 0.052704576976421634,\n",
       " 2078: 0.10258531540847983,\n",
       " 2080: 0.13506916192026036,\n",
       " 2081: 0.07076619914222788,\n",
       " 2084: 0.10375771172181716,\n",
       " 2085: 0.04681784930504755,\n",
       " 2086: 0.04435483870967742,\n",
       " 2088: 0.11369095276220977,\n",
       " 2102: 0.06554019457245264,\n",
       " 2103: 0.09861407249466951,\n",
       " 2104: 0.09672131147540984,\n",
       " 2106: 0.18121412105049045,\n",
       " 2110: 0.24193548387096775,\n",
       " 2111: 0.11234657039711192,\n",
       " 2119: 0.09205983889528194,\n",
       " 2133: 0.13768115942028986,\n",
       " 2134: 0.14112903225806453,\n",
       " 2137: 0.2431475514182281,\n",
       " 2141: 0.11590296495956873,\n",
       " 2143: 0.11245674740484429,\n",
       " 2147: 0.15110712148414124,\n",
       " 2151: 0.10058027079303675,\n",
       " 2152: 0.06857509079256568,\n",
       " 2153: 0.05465686274509804,\n",
       " 2164: 0.12041036717062635,\n",
       " 2165: 0.056021409455842996}"
      ]
     },
     "execution_count": 62,
     "metadata": {},
     "output_type": "execute_result"
    }
   ],
   "source": [
    "clickrate(adv_id, click)"
   ]
  },
  {
   "cell_type": "code",
   "execution_count": 88,
   "metadata": {},
   "outputs": [],
   "source": [
    "import hashlib\n",
    "def hashing_vectorizer(ID_list, N):\n",
    "    x = np.zeros(N, dtype = int)\n",
    "    for ID in ID_list:\n",
    "         h = hash(ID)\n",
    "         x[ID % N] += 1\n",
    "    \n",
    "    return x"
   ]
  },
  {
   "cell_type": "code",
   "execution_count": 89,
   "metadata": {},
   "outputs": [
    {
     "data": {
      "text/plain": [
       "array([  3439,   2585,   9809,  49372,  30836,  14437,  25496,   2941,\n",
       "        15732, 270957,    125,  89321,  29544,   7437,  36130,  13955,\n",
       "        47124,  63224,  41980,  70219, 134704,  35511,   7032,   8349,\n",
       "       115113,   2044,      0,   1514,  30635,  22671, 173327,  54087,\n",
       "          381,  62187,   7741,  60814,   7641,  87329,  17410,  23907,\n",
       "         5920,   3148,  27982,    578,      0,  28834,   3073,   6261,\n",
       "        18458,  45254])"
      ]
     },
     "execution_count": 89,
     "metadata": {},
     "output_type": "execute_result"
    }
   ],
   "source": [
    "hashing_vectorizer(adv_id, 50)"
   ]
  },
  {
   "cell_type": "code",
   "execution_count": 81,
   "metadata": {},
   "outputs": [
    {
     "data": {
      "text/plain": [
       "10000"
      ]
     },
     "execution_count": 81,
     "metadata": {},
     "output_type": "execute_result"
    }
   ],
   "source": [
    "hash(10000)"
   ]
  },
  {
   "cell_type": "code",
   "execution_count": null,
   "metadata": {},
   "outputs": [],
   "source": []
  }
 ],
 "metadata": {
  "kernelspec": {
   "display_name": "Python 3",
   "language": "python",
   "name": "python3"
  },
  "language_info": {
   "codemirror_mode": {
    "name": "ipython",
    "version": 3
   },
   "file_extension": ".py",
   "mimetype": "text/x-python",
   "name": "python",
   "nbconvert_exporter": "python",
   "pygments_lexer": "ipython3",
   "version": "3.6.4"
  }
 },
 "nbformat": 4,
 "nbformat_minor": 2
}
